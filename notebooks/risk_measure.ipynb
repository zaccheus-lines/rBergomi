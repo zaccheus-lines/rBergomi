{
 "cells": [
  {
   "cell_type": "code",
   "execution_count": 2,
   "metadata": {},
   "outputs": [],
   "source": [
    "import numpy as np\n",
    "import matplotlib.pyplot as plt\n",
    "import pandas as pd\n",
    "\n",
    "from rough_bergomi.models import RoughBergomiModel, GBMModel, HestonModel\n",
    "from rough_bergomi.utils.utils import bs_delta, bsinv, bs  # Black-Scholes inversion for IV calculation\n",
    "import yfinance as yf\n",
    "import seaborn as sns\n",
    "\n",
    "from rough_bergomi.hedging.deep_hedger import DeepHedgerTF"
   ]
  },
  {
   "cell_type": "code",
   "execution_count": 4,
   "metadata": {},
   "outputs": [
    {
     "name": "stdout",
     "output_type": "stream",
     "text": [
      "Running Deep Hedger with loss: MSHE\n",
      "Mean hedging error: -1.2698018880318622\n",
      "Std of hedging error: 13.955262338069\n",
      "Running Deep Hedger with loss: CVAR\n",
      "Mean hedging error: 1.0254564201164118\n",
      "Std of hedging error: 55.168720610150196\n",
      "Running Deep Hedger with loss: ENTROPIC\n",
      "Mean hedging error: -0.03513367411378681\n",
      "Std of hedging error: 45.53737725971397\n",
      "MSHE | Mean: -1.2698, Std: 13.9553, CVaR@1%: -64.1638\n",
      "CVAR | Mean: 1.0255, Std: 55.1687, CVaR@1%: -360.5361\n",
      "ENTROPIC | Mean: -0.0351, Std: 45.5374, CVaR@1%: -131.5437\n"
     ]
    }
   ],
   "source": [
    "model = RoughBergomiModel()\n",
    "results = []\n",
    "\n",
    "hidden_size = 64\n",
    "n_layers = 1\n",
    "optimizer = 'adam'\n",
    "loss_types = ['mshe', 'cvar', 'entropic']\n",
    "\n",
    "for loss in loss_types:\n",
    "    print(f\"Running Deep Hedger with loss: {loss.upper()}\")\n",
    "    \n",
    "    hedger = DeepHedgerTF(\n",
    "        model=model,\n",
    "        M=1000,\n",
    "        N=100,\n",
    "        T=30\n",
    "    )\n",
    "    \n",
    "    hedger.prepare_data()\n",
    "    gamma = 1.0 if loss == 'entropic' else None\n",
    "    \n",
    "    hedger.build_and_compile_model(\n",
    "        lr=0.001,\n",
    "        loss_type=loss,\n",
    "        gru_layers=n_layers,\n",
    "        hidden_size=hidden_size,\n",
    "        optimizer=optimizer,\n",
    "        gamma=gamma\n",
    "    )\n",
    "    \n",
    "    hedger.train_model(epochs=30, batch_size=256)\n",
    "\n",
    "    hedging_error = hedger.evaluate_model()\n",
    "    \n",
    "    std_error = np.std(hedging_error)\n",
    "    mean_error = np.mean(hedging_error)\n",
    "    cvar_1_error = np.mean(np.sort(hedging_error)[:int(0.01 * len(hedging_error))])\n",
    "\n",
    "    results.append((loss, mean_error, std_error, cvar_1_error))\n",
    "\n",
    "for loss, mean_e, std_e, cvar_1 in results:\n",
    "    print(f\"{loss.upper()} | Mean: {mean_e:.4f}, Std: {std_e:.4f}, CVaR@1%: {cvar_1:.4f}\")\n"
   ]
  }
 ],
 "metadata": {
  "kernelspec": {
   "display_name": "base",
   "language": "python",
   "name": "python3"
  },
  "language_info": {
   "codemirror_mode": {
    "name": "ipython",
    "version": 3
   },
   "file_extension": ".py",
   "mimetype": "text/x-python",
   "name": "python",
   "nbconvert_exporter": "python",
   "pygments_lexer": "ipython3",
   "version": "3.12.4"
  }
 },
 "nbformat": 4,
 "nbformat_minor": 2
}
